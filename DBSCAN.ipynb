{
 "cells": [
  {
   "cell_type": "code",
   "execution_count": 9,
   "metadata": {},
   "outputs": [
    {
     "data": {
      "text/plain": [
       "'\\nCode to hold and test from scratch implementation of DBSCAN algolithm of a 2D dataset\\n\\nAuthors\\n-------\\nAydamir Mirzayev: https://github.com/AydamirMirzayev || https://www.linkedin.com/in/aydamir-mirzayev-97b297133/\\n\\nAffiliation\\n-----------\\nPart of Bilkent University database\\n\\nMethods\\n-------\\nstandardize(data)\\n    Standizes the input data across every dimension: (x-mu)/std\\n    \\ndef distance_matrix(X):\\n    Calculates distance between all point pairs\\n\\nmost_similar(M)\\n    Finds the closest two points in the dataset using linkage distance matrix\\n    \\nsingle_linkage( X, k)\\n    Perform single-linkage clustering untill only k clusters are left\\n    \\nplot_linkage(data, clusters, equal, title)\\n    Visualizes clusters reuslting from the linkage algorithm\\n    \\n'"
      ]
     },
     "execution_count": 9,
     "metadata": {},
     "output_type": "execute_result"
    }
   ],
   "source": [
    "import numpy as np \n",
    "import pandas as pd \n",
    "import math\n",
    "import matplotlib.pyplot as plt \n",
    "\n",
    "\"\"\"\n",
    "Code to hold and test from scratch implementation of DBSCAN algolithm of a 2D dataset\n",
    "\n",
    "Authors\n",
    "-------\n",
    "Aydamir Mirzayev: https://github.com/AydamirMirzayev || https://www.linkedin.com/in/aydamir-mirzayev-97b297133/\n",
    "\n",
    "Affiliation\n",
    "-----------\n",
    "Part of Bilkent University database\n",
    "\n",
    "Methods\n",
    "-------\n",
    "standardize(data)\n",
    "    Standizes the input data across every dimension: (x-mu)/std\n",
    "    \n",
    "def distance_matrix(X):\n",
    "    Calculates distance between all point pairs\n",
    "\n",
    "most_similar(M)\n",
    "    Finds the closest two points in the dataset using linkage distance matrix\n",
    "    \n",
    "single_linkage( X, k)\n",
    "    Perform single-linkage clustering untill only k clusters are left\n",
    "    \n",
    "plot_linkage(data, clusters, equal, title)\n",
    "    Visualizes clusters reuslting from the linkage algorithm\n",
    "    \n",
    "\"\"\"    "
   ]
  },
  {
   "cell_type": "code",
   "execution_count": 1,
   "metadata": {},
   "outputs": [],
   "source": [
    "def standardize(data):\n",
    "    \n",
    "    \"\"\" Standizes the input data across every dimension: (x-mu)/std\n",
    "        \n",
    "    Parameters:\n",
    "    data (2D int array): 2 dimentional input samples \n",
    "    \n",
    "    Returns:\n",
    "    new_data (2D int array): standardize version of the data \n",
    "    \"\"\"\n",
    "    \n",
    "    L, dim = data.shape # L: number of instances and dim: number of data dimensions \n",
    "    new_data = np.zeros( data.shape) # placeholder for new_data \n",
    "    \n",
    "    # standardize each dimension separately\n",
    "    for i in range( dim):\n",
    "        mean = np.mean(data[:,i])\n",
    "        new_data[:,i] = (data[:,i] - mean)/ np.std( data[:,i])\n",
    "    \n",
    "    return new_data"
   ]
  },
  {
   "cell_type": "code",
   "execution_count": 2,
   "metadata": {},
   "outputs": [],
   "source": [
    "def distance_matrix(X):\n",
    "    \n",
    "    \"\"\" Calculates distance between all point pairs reuslting in NxN matrix where N is the input size.\n",
    "        Disntace metrix is Euclidian. Distance of a point to itself is defined to be infinitiy to avoid\n",
    "        confusion in clustering function. \n",
    "        N = dim\n",
    "        \n",
    "    Parameters:\n",
    "    X (2D int array): 2 dimentional input samples \n",
    "    \n",
    "    Returns:\n",
    "    M (NxN float array): distance matrix \n",
    "    \"\"\"\n",
    "    \n",
    "    dim = X.shape[0] #Take size and initialize\n",
    "    M = np.zeros(( dim, dim)) \n",
    "    \n",
    "    #calculate the distance pairs. \n",
    "    for i in range(dim):\n",
    "        for j in range(dim):\n",
    "            if i == j:\n",
    "                M[i,j] = math.inf #distance of a point to itself is defined to be infite.\n",
    "            else:\n",
    "                M[i,j] = math.sqrt( ( X[i,0]- X[j,0])**2 + ( X[i,1]- X[j,1])**2)\n",
    "    return M"
   ]
  },
  {
   "cell_type": "code",
   "execution_count": 5,
   "metadata": {},
   "outputs": [],
   "source": [
    "def DBSCAN(eps, min_p, data):\n",
    "    \n",
    "    \"\"\" Perform single-linkage clustering untill only k clusters are left \n",
    "        \n",
    "    Parameters:\n",
    "    min_p         (int): Minimum number of points in the neighborhood\n",
    "    eps         (float): The size of the neigborhood\n",
    "    data (2D int array): 2 dimentional input samples \n",
    "    \n",
    "    Methods:\n",
    "    distance_matrix(X)\n",
    "        Calculates distance between all point pairs\n",
    "        \n",
    "    Returns:\n",
    "    clusters (2D int array): array indicating to which cluster each point belongs to\n",
    "    labels   (2D int array): labels of the points; Noize = 0, Border = 1, Core = 2\n",
    "    \n",
    "    \"\"\"\n",
    "    \n",
    "    length = data.shape[0]\n",
    "    M = distance_matrix(data)\n",
    "\n",
    "\n",
    "    # Noize = 0, Border = 1, Core = 2\n",
    "    labels = np.zeros(length)\n",
    "    clusters = np.zeros(length) - 1\n",
    "\n",
    "    # assign labels  \n",
    "    for i in range(length):\n",
    "\n",
    "        no_of_nghbr = sum(M[i,:] < eps)\n",
    "\n",
    "        if no_of_nghbr >= min_p :\n",
    "            labels[i] = 2\n",
    "        elif no_of_nghbr > 0:\n",
    "            labels[i] = 1\n",
    "\n",
    "    # extract core indices\n",
    "    core_indices = np.argwhere( labels == 2 )[:,0]\n",
    "\n",
    "    # assign clusters \n",
    "    current_cluster = -1\n",
    "\n",
    "    for i in core_indices:\n",
    "\n",
    "        # find the first cluster among core neighbors\n",
    "        core_neighbors = np.argwhere( np.logical_and( M[i,:] < eps, labels == 2 ))\n",
    "\n",
    "        min_clus = math.inf\n",
    "        for n in core_neighbors:\n",
    "            if (clusters[n] != -1 and clusters[n] < min_clus):\n",
    "                min_clus = clusters[n] \n",
    "\n",
    "        # check if it is smaller than the cluster of this instance if it has one\n",
    "        if clusters[i] != -1:\n",
    "            if clusters[i] < min_clus:\n",
    "                min_clus = clusters[i]\n",
    "\n",
    "        if min_clus != math.inf:\n",
    "            assgn_cls = min_clus\n",
    "        else:\n",
    "            current_cluster = current_cluster + 1\n",
    "            assgn_cls = current_cluster\n",
    "\n",
    "        for j in core_neighbors:\n",
    "            clusters[j] = assgn_cls   \n",
    "            \n",
    "    return clusters, labels"
   ]
  },
  {
   "cell_type": "code",
   "execution_count": 6,
   "metadata": {},
   "outputs": [],
   "source": [
    "def plot_dbscan_clusters(data, clusters, labels, equal, title):\n",
    "    \n",
    "    \"\"\" Visualizes labels of the points resulting from the algorithm\n",
    "        \n",
    "    Parameters:\n",
    "    data     (2D int array): 2 dimentional input samples \n",
    "    clusters (2D int array): array indicating to which cluster each point belongs to\n",
    "    labels   (2D int array): array indicating to group a point belongs to \n",
    "    equal         (boolean): boolean indicating if the plot axes should be equal\n",
    "    title          (string): title of the plot\n",
    "    \n",
    "    \"\"\"  \n",
    "    \n",
    "    colors = [ 'goldenrod', 'green', 'purple', 'black' , 'gray','orange', 'yellow', \\\n",
    "              'royalblue', 'cyan', 'goldenrod', 'pink', 'darkred', 'magenta', \\\n",
    "              'lime', 'hotpink', 'midnightblue', 'darkslategray', 'deepskyblue', \\\n",
    "                'darkcyan', 'indigo', 'blueviolet', 'aqua', 'powderblue' ]\n",
    "    \n",
    "    k = np.unique(clusters).shape[0]\n",
    "    \n",
    "    #plot the clusters\n",
    "    plt.figure()\n",
    "    for i, c in enumerate( np.unique(clusters)):\n",
    "        if c != -1: \n",
    "            cls = np.argwhere( clusters== c)[:,0]\n",
    "            plt.plot(data[cls,0],data[cls,1], '*', color= colors[i])\n",
    "    \n",
    "    #plot noize in red and borders in blue\n",
    "    noize = np.argwhere( labels == 0)[:,0]\n",
    "    plt.plot(data[noize,0],data[noize,1], '*', color= 'red')\n",
    "    nghbr = np.argwhere( labels == 1)[:,0]\n",
    "    plt.plot(data[nghbr,0],data[nghbr,1], '*', color= 'blue')\n",
    "        \n",
    "    #if asked set axes equal\n",
    "    if(equal):\n",
    "        plt.axis('equal')   \n",
    "    \n",
    "    #arrange the styling\n",
    "    plt.xlabel(title, fontsize=20)\n",
    "    plt.xticks(fontsize=21)\n",
    "    plt.yticks(fontsize=21)\n",
    "        \n",
    "    #arrange tick spacing \n",
    "    xtics = np.zeros(5)\n",
    "    xmax = max(data[:,0])\n",
    "    xmin = min(data[:,0])\n",
    "    step = (xmax - xmin)/4\n",
    "    \n",
    "    curr = xmin\n",
    "    for i in range(5):\n",
    "        xtics[i] = round(curr, 2)\n",
    "        curr = curr + step\n",
    "        \n",
    "    #arrange tick spacing \n",
    "    ytics = np.zeros(5)\n",
    "    ymax = max(data[:,1])\n",
    "    ymin = min(data[:,1])\n",
    "    step = (ymax - ymin)/4\n",
    "    \n",
    "    curr = ymin\n",
    "    for i in range(5):\n",
    "        ytics[i] = round(curr, 2)\n",
    "        curr = curr + step    \n",
    "    \n",
    "    \n",
    "    plt.xticks( xtics )\n",
    "    plt.yticks( ytics )"
   ]
  },
  {
   "cell_type": "markdown",
   "metadata": {},
   "source": [
    "# Import data and test"
   ]
  },
  {
   "cell_type": "code",
   "execution_count": 19,
   "metadata": {},
   "outputs": [],
   "source": [
    "# Read and standardize the data\n",
    "data1 = np.array( pd.read_csv(\"data1.txt\", header = None, delim_whitespace=True, skipinitialspace=True), dtype=np.double)\n",
    "data2 = np.array( pd.read_csv(\"data2.txt\", header = None, delim_whitespace=True, skipinitialspace=True), dtype=np.double)\n",
    "\n",
    "data1 = standardize(data1)\n",
    "data2 = standardize(data2)"
   ]
  },
  {
   "cell_type": "code",
   "execution_count": 24,
   "metadata": {},
   "outputs": [
    {
     "data": {
      "image/png": "[encoded data removed]",
      "text/plain": [
       "<Figure size 432x288 with 1 Axes>"
      ]
     },
     "metadata": {
      "needs_background": "light"
     },
     "output_type": "display_data"
    },
    {
     "data": {
      "image/png": "[encoded data removed]",
      "text/plain": [
       "<Figure size 432x288 with 1 Axes>"
      ]
     },
     "metadata": {
      "needs_background": "light"
     },
     "output_type": "display_data"
    }
   ],
   "source": [
    "clusters, labels = DBSCAN(0.7, 5, data1)\n",
    "plot_dbscan_clusters(data1, clusters, labels, False,\"\")\n",
    "\n",
    "\n",
    "clusters, labels = DBSCAN(0.3, 5, data2)\n",
    "plot_dbscan_clusters(data2, clusters, labels, False,\"\")"
   ]
  },
  {
   "cell_type": "code",
   "execution_count": null,
   "metadata": {},
   "outputs": [],
   "source": []
  }
 ],
 "metadata": {
  "kernelspec": {
   "display_name": "Python 3",
   "language": "python",
   "name": "python3"
  },
  "language_info": {
   "codemirror_mode": {
    "name": "ipython",
    "version": 3
   },
   "file_extension": ".py",
   "mimetype": "text/x-python",
   "name": "python",
   "nbconvert_exporter": "python",
   "pygments_lexer": "ipython3",
   "version": "3.7.3"
  }
 },
 "nbformat": 4,
 "nbformat_minor": 2
}
