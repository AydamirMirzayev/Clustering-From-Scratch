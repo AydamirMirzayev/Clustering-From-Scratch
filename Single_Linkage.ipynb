{
 "cells": [
  {
   "cell_type": "code",
   "execution_count": 20,
   "metadata": {},
   "outputs": [
    {
     "data": {
      "text/plain": [
       "'\\nCode to hold and test from scratch implementation of Single-Linkage algolithm of a 2D dataset\\n\\nAuthors\\n-------\\nAydamir Mirzayev: https://github.com/AydamirMirzayev || https://www.linkedin.com/in/aydamir-mirzayev-97b297133/\\n\\nAffiliation\\n-----------\\nPart of Bilkent University database\\n\\nMethods\\n-------\\nstandardize(data)\\n    Standizes the input data across every dimension: (x-mu)/std\\n    \\ndef distance_matrix(X):\\n    Calculates distance between all point pairs\\n\\nmost_similar(M)\\n    Finds the closest two points in the dataset using linkage distance matrix\\n    \\nsingle_linkage( X, k)\\n    Perform single-linkage clustering untill only k clusters are left\\n    \\nplot_linkage(data, clusters, equal, title)\\n    Visualizes clusters reuslting from the linkage algorithm\\n    \\n'"
      ]
     },
     "execution_count": 20,
     "metadata": {},
     "output_type": "execute_result"
    }
   ],
   "source": [
    "import numpy as np \n",
    "import pandas as pd \n",
    "import math\n",
    "import matplotlib.pyplot as plt \n",
    "\n",
    "\"\"\"\n",
    "Code to hold and test from scratch implementation of Single-Linkage algolithm of a 2D dataset\n",
    "\n",
    "Authors\n",
    "-------\n",
    "Aydamir Mirzayev: https://github.com/AydamirMirzayev || https://www.linkedin.com/in/aydamir-mirzayev-97b297133/\n",
    "\n",
    "Affiliation\n",
    "-----------\n",
    "Part of Bilkent University database\n",
    "\n",
    "Methods\n",
    "-------\n",
    "standardize(data)\n",
    "    Standizes the input data across every dimension: (x-mu)/std\n",
    "    \n",
    "def distance_matrix(X):\n",
    "    Calculates distance between all point pairs\n",
    "\n",
    "most_similar(M)\n",
    "    Finds the closest two points in the dataset using linkage distance matrix\n",
    "    \n",
    "single_linkage( X, k)\n",
    "    Perform single-linkage clustering untill only k clusters are left\n",
    "    \n",
    "plot_linkage(data, clusters, equal, title)\n",
    "    Visualizes clusters reuslting from the linkage algorithm\n",
    "    \n",
    "\"\"\"    "
   ]
  },
  {
   "cell_type": "code",
   "execution_count": 21,
   "metadata": {},
   "outputs": [],
   "source": [
    "def standardize(data):\n",
    "    \n",
    "    \"\"\" Standizes the input data across every dimension: (x-mu)/std\n",
    "        \n",
    "    Parameters:\n",
    "    data (2D int array): 2 dimentional input samples \n",
    "    \n",
    "    Returns:\n",
    "    new_data (2D int array): standardize version of the data \n",
    "    \"\"\"\n",
    "    \n",
    "    L, dim = data.shape # L: number of instances and dim: number of data dimensions \n",
    "    new_data = np.zeros( data.shape) # placeholder for new_data \n",
    "    \n",
    "    # standardize each dimension separately\n",
    "    for i in range( dim):\n",
    "        mean = np.mean(data[:,i])\n",
    "        new_data[:,i] = (data[:,i] - mean)/ np.std( data[:,i])\n",
    "    \n",
    "    return new_data"
   ]
  },
  {
   "cell_type": "code",
   "execution_count": 22,
   "metadata": {},
   "outputs": [],
   "source": [
    "def distance_matrix(X):\n",
    "    \n",
    "    \"\"\" Calculates distance between all point pairs reuslting in NxN matrix where N is the input size.\n",
    "        Disntace metrix is Euclidian. Distance of a point to itself is defined to be infinitiy to avoid\n",
    "        confusion in Linkage function. \n",
    "        N = dim\n",
    "        \n",
    "    Parameters:\n",
    "    X (2D int array): 2 dimentional input samples \n",
    "    \n",
    "    Returns:\n",
    "    M (NxN float array): distance matrix \n",
    "    \"\"\"\n",
    "    \n",
    "    dim = X.shape[0] #Take size and initialize\n",
    "    M = np.zeros(( dim, dim)) \n",
    "    \n",
    "    #calculate the distance pairs. \n",
    "    for i in range(dim):\n",
    "        for j in range(dim):\n",
    "            if i == j:\n",
    "                M[i,j] = math.inf #distance of a point to itself is defined to be infite.\n",
    "            else:\n",
    "                M[i,j] = math.sqrt( ( X[i,0]- X[j,0])**2 + ( X[i,1]- X[j,1])**2)\n",
    "    return M"
   ]
  },
  {
   "cell_type": "code",
   "execution_count": 23,
   "metadata": {},
   "outputs": [],
   "source": [
    "def most_similar(M):\n",
    "\n",
    "    \"\"\" Finds the closest two points in the dataset using linkage distance matrix. \n",
    "        \n",
    "    Parameters:\n",
    "    M (2D int array): 2 dimentional input samples \n",
    "    \n",
    "    Returns:\n",
    "    a          (int): index of the first of closest pair \n",
    "    b          (int): index of the second of closest pair\n",
    "    \"\"\"\n",
    "    \n",
    "    L = M.shape[0]\n",
    "    ind = np.argmin(M) # Find the rank of the smallest number\n",
    "    \n",
    "    a = (int)(ind/L) #extract indices of datapoints yielding that rank (matrix is symmetric)\n",
    "    b = ind%L\n",
    "    \n",
    "    return a, b"
   ]
  },
  {
   "cell_type": "code",
   "execution_count": 24,
   "metadata": {},
   "outputs": [],
   "source": [
    "def single_linkage( X, k):\n",
    "    \n",
    "    \"\"\" Perform single-linkage clustering untill only k clusters are left \n",
    "        \n",
    "    Parameters:\n",
    "    X (2D int array): 2 dimentional input samples \n",
    "    k          (int): Number of desired clusters\n",
    "    \n",
    "    Methods:\n",
    "    most_similar(M) \n",
    "        Finds the closest two points in the dataset using linkage distance matrix\n",
    "        \n",
    "    distance_matrix(X)\n",
    "        Calculates distance between all point pairs\n",
    "        \n",
    "    Returns:\n",
    "    clusters (2D int array): array indicating to which cluster each point belongs to\n",
    "    \n",
    "    \"\"\"\n",
    "    \n",
    "    #params \n",
    "    length = X.shape[0]\n",
    "    current_no = length\n",
    "    \n",
    "    #initialize\n",
    "    clusters = np.arange(0,length).reshape(length,1) #start with N clusters.\n",
    "    M = distance_matrix(X)\n",
    "\n",
    "    while current_no > k:\n",
    "        \n",
    "        a, b = most_similar( M) #indices of two most similar points. \n",
    "        a = clusters[a] #indicate to which cluster they belong\n",
    "        b = clusters[b]\n",
    "        \n",
    "        #merge two most similar clusters to one as the cluster with the\n",
    "        #lowest index among the two\n",
    "        if b < a:\n",
    "            clusters[ clusters == a] = b\n",
    "            indexes = np.argwhere(clusters==b)[:,0]\n",
    "\n",
    "        else:\n",
    "            clusters[ clusters == b] = a\n",
    "            indexes = np.argwhere(clusters==a)[:,0]\n",
    "        \n",
    "        #set within cluster distances to infinity\n",
    "        for i in indexes:\n",
    "            for j in indexes:\n",
    "                M[i,j] = math.inf\n",
    "\n",
    "        current_no = current_no - 1 #decrement the number of clusters \n",
    "    \n",
    "    return clusters"
   ]
  },
  {
   "cell_type": "code",
   "execution_count": 25,
   "metadata": {},
   "outputs": [],
   "source": [
    "def plot_linkage(data, clusters, equal, title):\n",
    "    \n",
    "    \"\"\" Visualizes clusters reuslting from the linkage algorithm\n",
    "        \n",
    "    Parameters:\n",
    "    data     (2D int array): 2 dimentional input samples \n",
    "    clusters (2D int array): array indicating to which cluster each point belongs to\n",
    "    equal         (boolean): boolean indicating if the plot axes should be equal\n",
    "    title          (string): title of the plot\n",
    "    \n",
    "    \"\"\"\n",
    "    \n",
    "    # params\n",
    "    colors = ['blue', 'red', 'green', 'purple', 'black' , 'gray','orange', 'yellow', 'royalblue', 'cyan']\n",
    "    k = np.unique(clusters).shape[0] #number of clusters\n",
    "    \n",
    "    # plot each cluster with a different color\n",
    "    plt.figure()\n",
    "    for i, c in enumerate( np.unique(clusters)):\n",
    "        cls = np.argwhere( clusters== c)[:,0] #indices with a cluster index\n",
    "        plt.plot(data[cls,0],data[cls,1], '*', color= colors[i])\n",
    "    if(equal):\n",
    "        plt.axis('equal')  \n",
    "    \n",
    "    # below are optional style arrangements\n",
    "    \n",
    "    #tick sizes\n",
    "    plt.xlabel(title, fontsize=20)\n",
    "    plt.xticks(fontsize=21)\n",
    "    plt.yticks(fontsize=21)\n",
    "    \n",
    "    \n",
    "    #arrange tick spacing \n",
    "    xtics = np.zeros(5)\n",
    "    xmax = max(data[:,0])\n",
    "    xmin = min(data[:,0])\n",
    "    step = (xmax - xmin)/4\n",
    "    \n",
    "    curr = xmin\n",
    "    for i in range(5):\n",
    "        xtics[i] = round(curr, 2)\n",
    "        curr = curr + step\n",
    "        \n",
    "    #arrange tick spacing \n",
    "    ytics = np.zeros(5)\n",
    "    ymax = max(data[:,1])\n",
    "    ymin = min(data[:,1])\n",
    "    step = (ymax - ymin)/4\n",
    "    \n",
    "    curr = ymin\n",
    "    for i in range(5):\n",
    "        ytics[i] = round(curr, 2)\n",
    "        curr = curr + step    \n",
    "    \n",
    "    \n",
    "    plt.xticks( xtics )\n",
    "    plt.yticks( ytics )"
   ]
  },
  {
   "cell_type": "markdown",
   "metadata": {},
   "source": [
    "\n",
    "# *Read data and test*"
   ]
  },
  {
   "cell_type": "code",
   "execution_count": 26,
   "metadata": {},
   "outputs": [],
   "source": [
    "# Read and standardize the data\n",
    "data1 = np.array( pd.read_csv(\"data1.txt\", header = None, delim_whitespace=True, skipinitialspace=True), dtype=np.double)\n",
    "data2 = np.array( pd.read_csv(\"data2.txt\", header = None, delim_whitespace=True, skipinitialspace=True), dtype=np.double)\n",
    "\n",
    "data1 = standardize(data1)\n",
    "data2 = standardize(data2)"
   ]
  },
  {
   "cell_type": "code",
   "execution_count": 27,
   "metadata": {},
   "outputs": [
    {
     "data": {
      "image/png": "[encoded data removed]",
      "text/plain": [
       "<Figure size 432x288 with 1 Axes>"
      ]
     },
     "metadata": {
      "needs_background": "light"
     },
     "output_type": "display_data"
    },
    {
     "data": {
      "image/png": "[encoded data removed]",
      "text/plain": [
       "<Figure size 432x288 with 1 Axes>"
      ]
     },
     "metadata": {
      "needs_background": "light"
     },
     "output_type": "display_data"
    }
   ],
   "source": [
    "# Test results\n",
    "clusters = single_linkage(data2,3)\n",
    "plot_linkage(data2,clusters,False,\"\")\n",
    "\n",
    "clusters = single_linkage(data1,3)\n",
    "plot_linkage(data1,clusters,False,\"\")"
   ]
  }
 ],
 "metadata": {
  "kernelspec": {
   "display_name": "Python 3",
   "language": "python",
   "name": "python3"
  },
  "language_info": {
   "codemirror_mode": {
    "name": "ipython",
    "version": 3
   },
   "file_extension": ".py",
   "mimetype": "text/x-python",
   "name": "python",
   "nbconvert_exporter": "python",
   "pygments_lexer": "ipython3",
   "version": "3.7.3"
  }
 },
 "nbformat": 4,
 "nbformat_minor": 2
}
